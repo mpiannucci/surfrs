{
 "cells": [
  {
   "cell_type": "code",
   "execution_count": 1,
   "metadata": {},
   "outputs": [],
   "source": [
    "import surfpy"
   ]
  },
  {
   "cell_type": "code",
   "execution_count": 11,
   "metadata": {},
   "outputs": [],
   "source": [
    "buoy_spectra_filename = '44097.data_spec'\n",
    "with open(buoy_spectra_filename, 'r') as bsf: \n",
    "    buoy_spectra_data = bsf.read()\n",
    "\n",
    "buoy_spec_dir_filename = '44097.swdir'\n",
    "with open(buoy_spec_dir_filename, 'r') as bsf: \n",
    "    buoy_spec_dir_data = bsf.read()"
   ]
  },
  {
   "cell_type": "code",
   "execution_count": 15,
   "metadata": {},
   "outputs": [
    {
     "data": {
      "text/plain": [
       "['0.5 m @ 6.2 s 156° SSE', '0.4 m @ 4.5 s 220° SW', '0.2 m @ 13.3 s 136° SE']"
      ]
     },
     "execution_count": 15,
     "metadata": {},
     "output_type": "execute_result"
    }
   ],
   "source": [
    "buoy = surfpy.BuoyStation('44097', location=surfpy.Location())\n",
    "spectra = buoy.parse_wave_spectra_reading_data(buoy_spectra_data, buoy_spec_dir_data, 1)\n",
    "[s.summary for s in spectra[0].swell_components]"
   ]
  },
  {
   "cell_type": "code",
   "execution_count": null,
   "metadata": {},
   "outputs": [],
   "source": [
    "0.5 m @ 6.2 s 156° sse , 0.4 m @ 4.5 s 220° sw , 0.2 m @ 13.3 s 136° se \n",
    "\n",
    "0.2 m @ 13.3 s 136° se , 0.5 m @ 6.2 s 156° sse , 0.4 m @ 4.5 s 220° sw \n",
    "0.2 m @ 13.3 s 136° se , 0.4 m @ 4.5 s 220° sw , 0.5 m @ 6.2 s 156° sse "
   ]
  }
 ],
 "metadata": {
  "kernelspec": {
   "display_name": "Python 3.9.11 64-bit ('3.9.11')",
   "language": "python",
   "name": "python3"
  },
  "language_info": {
   "codemirror_mode": {
    "name": "ipython",
    "version": 3
   },
   "file_extension": ".py",
   "mimetype": "text/x-python",
   "name": "python",
   "nbconvert_exporter": "python",
   "pygments_lexer": "ipython3",
   "version": "3.9.11"
  },
  "orig_nbformat": 4,
  "vscode": {
   "interpreter": {
    "hash": "f967b91afc8f880aae97afd7505e2f3f0ab4cd288ce8efac1efcdbc4f0ea20b2"
   }
  }
 },
 "nbformat": 4,
 "nbformat_minor": 2
}
