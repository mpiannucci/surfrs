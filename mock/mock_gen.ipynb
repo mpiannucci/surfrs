{
 "cells": [
  {
   "cell_type": "code",
   "execution_count": 1,
   "metadata": {},
   "outputs": [],
   "source": [
    "import surfpy"
   ]
  },
  {
   "cell_type": "code",
   "execution_count": 10,
   "metadata": {},
   "outputs": [
    {
     "ename": "FileNotFoundError",
     "evalue": "[Errno 2] No such file or directory: '44097.data_spec'",
     "output_type": "error",
     "traceback": [
      "\u001b[0;31m---------------------------------------------------------------------------\u001b[0m",
      "\u001b[0;31mFileNotFoundError\u001b[0m                         Traceback (most recent call last)",
      "\u001b[1;32m/Users/matthewiannucci/Developer/surfrs/mock/mock_gen.ipynb Cell 2\u001b[0m in \u001b[0;36m<cell line: 2>\u001b[0;34m()\u001b[0m\n\u001b[1;32m      <a href='vscode-notebook-cell:/Users/matthewiannucci/Developer/surfrs/mock/mock_gen.ipynb#ch0000001?line=0'>1</a>\u001b[0m buoy_spectra_filename \u001b[39m=\u001b[39m \u001b[39m'\u001b[39m\u001b[39m44097.data_spec\u001b[39m\u001b[39m'\u001b[39m\n\u001b[0;32m----> <a href='vscode-notebook-cell:/Users/matthewiannucci/Developer/surfrs/mock/mock_gen.ipynb#ch0000001?line=1'>2</a>\u001b[0m \u001b[39mwith\u001b[39;00m \u001b[39mopen\u001b[39;49m(buoy_spectra_filename, \u001b[39m'\u001b[39;49m\u001b[39mr\u001b[39;49m\u001b[39m'\u001b[39;49m) \u001b[39mas\u001b[39;00m bsf: \n\u001b[1;32m      <a href='vscode-notebook-cell:/Users/matthewiannucci/Developer/surfrs/mock/mock_gen.ipynb#ch0000001?line=2'>3</a>\u001b[0m     buoy_spectra_data \u001b[39m=\u001b[39m bsf\u001b[39m.\u001b[39mread()\n\u001b[1;32m      <a href='vscode-notebook-cell:/Users/matthewiannucci/Developer/surfrs/mock/mock_gen.ipynb#ch0000001?line=4'>5</a>\u001b[0m buoy_spec_dir_filename \u001b[39m=\u001b[39m \u001b[39m'\u001b[39m\u001b[39m44097.swdir\u001b[39m\u001b[39m'\u001b[39m\n",
      "\u001b[0;31mFileNotFoundError\u001b[0m: [Errno 2] No such file or directory: '44097.data_spec'"
     ]
    }
   ],
   "source": [
    "buoy_spectra_filename = '44097.data_spec'\n",
    "with open(buoy_spectra_filename, 'r') as bsf: \n",
    "    buoy_spectra_data = bsf.read()\n",
    "\n",
    "buoy_spec_dir_filename = '44097.swdir'\n",
    "with open(buoy_spec_dir_filename, 'r') as bsf: \n",
    "    buoy_spec_dir_data = bsf.read()"
   ]
  },
  {
   "cell_type": "code",
   "execution_count": 9,
   "metadata": {},
   "outputs": [
    {
     "name": "stdout",
     "output_type": "stream",
     "text": [
      "Failed to parse wave spectra data\n"
     ]
    }
   ],
   "source": [
    "buoy = surfpy.BuoyStation('44097', location=surfpy.Location())\n",
    "spectra = buoy.parse_wave_spectra_reading_data(buoy_spectra_data, buoy_spec_dir_data, 1)\n",
    "spectra"
   ]
  },
  {
   "cell_type": "code",
   "execution_count": null,
   "metadata": {},
   "outputs": [],
   "source": []
  }
 ],
 "metadata": {
  "kernelspec": {
   "display_name": "Python 3.9.11 64-bit ('3.9.11')",
   "language": "python",
   "name": "python3"
  },
  "language_info": {
   "codemirror_mode": {
    "name": "ipython",
    "version": 3
   },
   "file_extension": ".py",
   "mimetype": "text/x-python",
   "name": "python",
   "nbconvert_exporter": "python",
   "pygments_lexer": "ipython3",
   "version": "3.9.11"
  },
  "orig_nbformat": 4,
  "vscode": {
   "interpreter": {
    "hash": "f967b91afc8f880aae97afd7505e2f3f0ab4cd288ce8efac1efcdbc4f0ea20b2"
   }
  }
 },
 "nbformat": 4,
 "nbformat_minor": 2
}
